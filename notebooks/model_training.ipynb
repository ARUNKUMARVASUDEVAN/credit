{
 "cells": [
  {
   "cell_type": "code",
   "execution_count": 95,
   "metadata": {},
   "outputs": [],
   "source": [
    "import pandas as pd\n",
    "import numpy as np"
   ]
  },
  {
   "cell_type": "code",
   "execution_count": 96,
   "metadata": {},
   "outputs": [],
   "source": [
    "df=pd.read_excel('D:/Inuron/credit_analysis/notebooks/data/default of credit card clients.xls',header=1)\n",
    "df.rename(columns={'default payment next month':'payment_next_month'},inplace=True)"
   ]
  },
  {
   "cell_type": "code",
   "execution_count": 97,
   "metadata": {},
   "outputs": [
    {
     "data": {
      "text/html": [
       "<div>\n",
       "<style scoped>\n",
       "    .dataframe tbody tr th:only-of-type {\n",
       "        vertical-align: middle;\n",
       "    }\n",
       "\n",
       "    .dataframe tbody tr th {\n",
       "        vertical-align: top;\n",
       "    }\n",
       "\n",
       "    .dataframe thead th {\n",
       "        text-align: right;\n",
       "    }\n",
       "</style>\n",
       "<table border=\"1\" class=\"dataframe\">\n",
       "  <thead>\n",
       "    <tr style=\"text-align: right;\">\n",
       "      <th></th>\n",
       "      <th>ID</th>\n",
       "      <th>LIMIT_BAL</th>\n",
       "      <th>SEX</th>\n",
       "      <th>EDUCATION</th>\n",
       "      <th>MARRIAGE</th>\n",
       "      <th>AGE</th>\n",
       "      <th>PAY_0</th>\n",
       "      <th>PAY_2</th>\n",
       "      <th>PAY_3</th>\n",
       "      <th>PAY_4</th>\n",
       "      <th>...</th>\n",
       "      <th>BILL_AMT4</th>\n",
       "      <th>BILL_AMT5</th>\n",
       "      <th>BILL_AMT6</th>\n",
       "      <th>PAY_AMT1</th>\n",
       "      <th>PAY_AMT2</th>\n",
       "      <th>PAY_AMT3</th>\n",
       "      <th>PAY_AMT4</th>\n",
       "      <th>PAY_AMT5</th>\n",
       "      <th>PAY_AMT6</th>\n",
       "      <th>payment_next_month</th>\n",
       "    </tr>\n",
       "  </thead>\n",
       "  <tbody>\n",
       "    <tr>\n",
       "      <th>0</th>\n",
       "      <td>1</td>\n",
       "      <td>20000</td>\n",
       "      <td>2</td>\n",
       "      <td>2</td>\n",
       "      <td>1</td>\n",
       "      <td>24</td>\n",
       "      <td>2</td>\n",
       "      <td>2</td>\n",
       "      <td>-1</td>\n",
       "      <td>-1</td>\n",
       "      <td>...</td>\n",
       "      <td>0</td>\n",
       "      <td>0</td>\n",
       "      <td>0</td>\n",
       "      <td>0</td>\n",
       "      <td>689</td>\n",
       "      <td>0</td>\n",
       "      <td>0</td>\n",
       "      <td>0</td>\n",
       "      <td>0</td>\n",
       "      <td>1</td>\n",
       "    </tr>\n",
       "    <tr>\n",
       "      <th>1</th>\n",
       "      <td>2</td>\n",
       "      <td>120000</td>\n",
       "      <td>2</td>\n",
       "      <td>2</td>\n",
       "      <td>2</td>\n",
       "      <td>26</td>\n",
       "      <td>-1</td>\n",
       "      <td>2</td>\n",
       "      <td>0</td>\n",
       "      <td>0</td>\n",
       "      <td>...</td>\n",
       "      <td>3272</td>\n",
       "      <td>3455</td>\n",
       "      <td>3261</td>\n",
       "      <td>0</td>\n",
       "      <td>1000</td>\n",
       "      <td>1000</td>\n",
       "      <td>1000</td>\n",
       "      <td>0</td>\n",
       "      <td>2000</td>\n",
       "      <td>1</td>\n",
       "    </tr>\n",
       "    <tr>\n",
       "      <th>2</th>\n",
       "      <td>3</td>\n",
       "      <td>90000</td>\n",
       "      <td>2</td>\n",
       "      <td>2</td>\n",
       "      <td>2</td>\n",
       "      <td>34</td>\n",
       "      <td>0</td>\n",
       "      <td>0</td>\n",
       "      <td>0</td>\n",
       "      <td>0</td>\n",
       "      <td>...</td>\n",
       "      <td>14331</td>\n",
       "      <td>14948</td>\n",
       "      <td>15549</td>\n",
       "      <td>1518</td>\n",
       "      <td>1500</td>\n",
       "      <td>1000</td>\n",
       "      <td>1000</td>\n",
       "      <td>1000</td>\n",
       "      <td>5000</td>\n",
       "      <td>0</td>\n",
       "    </tr>\n",
       "    <tr>\n",
       "      <th>3</th>\n",
       "      <td>4</td>\n",
       "      <td>50000</td>\n",
       "      <td>2</td>\n",
       "      <td>2</td>\n",
       "      <td>1</td>\n",
       "      <td>37</td>\n",
       "      <td>0</td>\n",
       "      <td>0</td>\n",
       "      <td>0</td>\n",
       "      <td>0</td>\n",
       "      <td>...</td>\n",
       "      <td>28314</td>\n",
       "      <td>28959</td>\n",
       "      <td>29547</td>\n",
       "      <td>2000</td>\n",
       "      <td>2019</td>\n",
       "      <td>1200</td>\n",
       "      <td>1100</td>\n",
       "      <td>1069</td>\n",
       "      <td>1000</td>\n",
       "      <td>0</td>\n",
       "    </tr>\n",
       "    <tr>\n",
       "      <th>4</th>\n",
       "      <td>5</td>\n",
       "      <td>50000</td>\n",
       "      <td>1</td>\n",
       "      <td>2</td>\n",
       "      <td>1</td>\n",
       "      <td>57</td>\n",
       "      <td>-1</td>\n",
       "      <td>0</td>\n",
       "      <td>-1</td>\n",
       "      <td>0</td>\n",
       "      <td>...</td>\n",
       "      <td>20940</td>\n",
       "      <td>19146</td>\n",
       "      <td>19131</td>\n",
       "      <td>2000</td>\n",
       "      <td>36681</td>\n",
       "      <td>10000</td>\n",
       "      <td>9000</td>\n",
       "      <td>689</td>\n",
       "      <td>679</td>\n",
       "      <td>0</td>\n",
       "    </tr>\n",
       "  </tbody>\n",
       "</table>\n",
       "<p>5 rows × 25 columns</p>\n",
       "</div>"
      ],
      "text/plain": [
       "   ID  LIMIT_BAL  SEX  EDUCATION  MARRIAGE  AGE  PAY_0  PAY_2  PAY_3  PAY_4  \\\n",
       "0   1      20000    2          2         1   24      2      2     -1     -1   \n",
       "1   2     120000    2          2         2   26     -1      2      0      0   \n",
       "2   3      90000    2          2         2   34      0      0      0      0   \n",
       "3   4      50000    2          2         1   37      0      0      0      0   \n",
       "4   5      50000    1          2         1   57     -1      0     -1      0   \n",
       "\n",
       "   ...  BILL_AMT4  BILL_AMT5  BILL_AMT6  PAY_AMT1  PAY_AMT2  PAY_AMT3  \\\n",
       "0  ...          0          0          0         0       689         0   \n",
       "1  ...       3272       3455       3261         0      1000      1000   \n",
       "2  ...      14331      14948      15549      1518      1500      1000   \n",
       "3  ...      28314      28959      29547      2000      2019      1200   \n",
       "4  ...      20940      19146      19131      2000     36681     10000   \n",
       "\n",
       "   PAY_AMT4  PAY_AMT5  PAY_AMT6  payment_next_month  \n",
       "0         0         0         0                   1  \n",
       "1      1000         0      2000                   1  \n",
       "2      1000      1000      5000                   0  \n",
       "3      1100      1069      1000                   0  \n",
       "4      9000       689       679                   0  \n",
       "\n",
       "[5 rows x 25 columns]"
      ]
     },
     "execution_count": 97,
     "metadata": {},
     "output_type": "execute_result"
    }
   ],
   "source": [
    "df.head()\n"
   ]
  },
  {
   "cell_type": "code",
   "execution_count": 98,
   "metadata": {},
   "outputs": [],
   "source": [
    "df=df.drop(labels=['ID'],axis=1)"
   ]
  },
  {
   "cell_type": "code",
   "execution_count": 99,
   "metadata": {},
   "outputs": [],
   "source": [
    "X=df.drop(labels=['payment_next_month'],axis=1)\n",
    "Y=df['payment_next_month']"
   ]
  },
  {
   "cell_type": "code",
   "execution_count": null,
   "metadata": {},
   "outputs": [],
   "source": []
  },
  {
   "cell_type": "code",
   "execution_count": null,
   "metadata": {},
   "outputs": [],
   "source": []
  },
  {
   "cell_type": "code",
   "execution_count": null,
   "metadata": {},
   "outputs": [],
   "source": []
  },
  {
   "cell_type": "code",
   "execution_count": null,
   "metadata": {},
   "outputs": [],
   "source": []
  },
  {
   "cell_type": "code",
   "execution_count": null,
   "metadata": {},
   "outputs": [],
   "source": []
  },
  {
   "cell_type": "code",
   "execution_count": 100,
   "metadata": {},
   "outputs": [],
   "source": [
    "from sklearn.impute import SimpleImputer\n",
    "from sklearn.preprocessing import StandardScaler\n",
    "from sklearn.preprocessing import OrdinalEncoder\n",
    "\n",
    "from sklearn.pipeline import Pipeline\n",
    "from sklearn.compose import ColumnTransformer"
   ]
  },
  {
   "cell_type": "code",
   "execution_count": 101,
   "metadata": {},
   "outputs": [],
   "source": [
    "\n",
    "numerical_columns=df.columns[df.dtypes!='object']"
   ]
  },
  {
   "cell_type": "code",
   "execution_count": 102,
   "metadata": {},
   "outputs": [],
   "source": [
    "numerical_columns = df.columns[(df.dtypes != 'object') & (df.columns != 'payment_next_month')]\n"
   ]
  },
  {
   "cell_type": "code",
   "execution_count": 103,
   "metadata": {},
   "outputs": [],
   "source": [
    "#numerical_columns = ['ID','LIMIT_BAL','SEX','EDUCATION','MARRIAGE','AGE','PAY_0','PAY_2','PAY_3','PAY_4','BILL_AMT4','BILL_AMT5','BILL_AMT6','PAY_AMT1','PAY_AMT2','PAY_AMT3','PAY_AMT4','PAY_AMT5','PAY_AMT6','default payment next month']  # Replace with your actual numerical column names\n",
    "\n",
    "num_pipeline = Pipeline(\n",
    "    steps=[\n",
    "        ('imputer', SimpleImputer(strategy='median')),\n",
    "        ('scaler', StandardScaler())\n",
    "    ]\n",
    ")\n",
    "\n",
    "preprocessor = ColumnTransformer([\n",
    "    ('num_pipeline', num_pipeline, numerical_columns)\n",
    "])\n"
   ]
  },
  {
   "cell_type": "code",
   "execution_count": 104,
   "metadata": {},
   "outputs": [],
   "source": [
    "from sklearn.model_selection import train_test_split\n",
    "\n",
    "X_train,X_test,Y_train,Y_test=train_test_split(X,Y,test_size=0.30,random_state=21)"
   ]
  },
  {
   "cell_type": "code",
   "execution_count": 105,
   "metadata": {},
   "outputs": [
    {
     "data": {
      "text/html": [
       "<div>\n",
       "<style scoped>\n",
       "    .dataframe tbody tr th:only-of-type {\n",
       "        vertical-align: middle;\n",
       "    }\n",
       "\n",
       "    .dataframe tbody tr th {\n",
       "        vertical-align: top;\n",
       "    }\n",
       "\n",
       "    .dataframe thead th {\n",
       "        text-align: right;\n",
       "    }\n",
       "</style>\n",
       "<table border=\"1\" class=\"dataframe\">\n",
       "  <thead>\n",
       "    <tr style=\"text-align: right;\">\n",
       "      <th></th>\n",
       "      <th>num_pipeline__LIMIT_BAL</th>\n",
       "      <th>num_pipeline__SEX</th>\n",
       "      <th>num_pipeline__EDUCATION</th>\n",
       "      <th>num_pipeline__MARRIAGE</th>\n",
       "      <th>num_pipeline__AGE</th>\n",
       "      <th>num_pipeline__PAY_0</th>\n",
       "      <th>num_pipeline__PAY_2</th>\n",
       "      <th>num_pipeline__PAY_3</th>\n",
       "      <th>num_pipeline__PAY_4</th>\n",
       "      <th>num_pipeline__PAY_5</th>\n",
       "      <th>...</th>\n",
       "      <th>num_pipeline__BILL_AMT3</th>\n",
       "      <th>num_pipeline__BILL_AMT4</th>\n",
       "      <th>num_pipeline__BILL_AMT5</th>\n",
       "      <th>num_pipeline__BILL_AMT6</th>\n",
       "      <th>num_pipeline__PAY_AMT1</th>\n",
       "      <th>num_pipeline__PAY_AMT2</th>\n",
       "      <th>num_pipeline__PAY_AMT3</th>\n",
       "      <th>num_pipeline__PAY_AMT4</th>\n",
       "      <th>num_pipeline__PAY_AMT5</th>\n",
       "      <th>num_pipeline__PAY_AMT6</th>\n",
       "    </tr>\n",
       "  </thead>\n",
       "  <tbody>\n",
       "    <tr>\n",
       "      <th>0</th>\n",
       "      <td>-1.061879</td>\n",
       "      <td>-1.238831</td>\n",
       "      <td>1.442629</td>\n",
       "      <td>0.860246</td>\n",
       "      <td>1.800231</td>\n",
       "      <td>0.900479</td>\n",
       "      <td>1.776140</td>\n",
       "      <td>0.139762</td>\n",
       "      <td>0.195697</td>\n",
       "      <td>0.240298</td>\n",
       "      <td>...</td>\n",
       "      <td>-0.437292</td>\n",
       "      <td>-0.433698</td>\n",
       "      <td>-0.427360</td>\n",
       "      <td>-0.498955</td>\n",
       "      <td>-0.365974</td>\n",
       "      <td>-0.203423</td>\n",
       "      <td>-0.186780</td>\n",
       "      <td>-0.325992</td>\n",
       "      <td>-0.318709</td>\n",
       "      <td>-0.233260</td>\n",
       "    </tr>\n",
       "    <tr>\n",
       "      <th>1</th>\n",
       "      <td>-0.675740</td>\n",
       "      <td>0.807213</td>\n",
       "      <td>0.183581</td>\n",
       "      <td>-1.056686</td>\n",
       "      <td>-0.700126</td>\n",
       "      <td>0.012141</td>\n",
       "      <td>0.109856</td>\n",
       "      <td>0.139762</td>\n",
       "      <td>0.195697</td>\n",
       "      <td>0.240298</td>\n",
       "      <td>...</td>\n",
       "      <td>-0.418406</td>\n",
       "      <td>-0.444751</td>\n",
       "      <td>-0.457466</td>\n",
       "      <td>-0.459544</td>\n",
       "      <td>-0.259311</td>\n",
       "      <td>-0.191393</td>\n",
       "      <td>-0.220292</td>\n",
       "      <td>-0.257210</td>\n",
       "      <td>-0.252036</td>\n",
       "      <td>-0.230038</td>\n",
       "    </tr>\n",
       "    <tr>\n",
       "      <th>2</th>\n",
       "      <td>0.559906</td>\n",
       "      <td>0.807213</td>\n",
       "      <td>0.183581</td>\n",
       "      <td>0.860246</td>\n",
       "      <td>1.691520</td>\n",
       "      <td>-1.764536</td>\n",
       "      <td>-1.556428</td>\n",
       "      <td>-1.535943</td>\n",
       "      <td>-1.528141</td>\n",
       "      <td>-1.539374</td>\n",
       "      <td>...</td>\n",
       "      <td>-0.666203</td>\n",
       "      <td>-0.661511</td>\n",
       "      <td>-0.651099</td>\n",
       "      <td>-0.639428</td>\n",
       "      <td>-0.101629</td>\n",
       "      <td>-0.232432</td>\n",
       "      <td>-0.261995</td>\n",
       "      <td>-0.278119</td>\n",
       "      <td>-0.272305</td>\n",
       "      <td>-0.201408</td>\n",
       "    </tr>\n",
       "    <tr>\n",
       "      <th>3</th>\n",
       "      <td>-1.139107</td>\n",
       "      <td>-1.238831</td>\n",
       "      <td>0.183581</td>\n",
       "      <td>0.860246</td>\n",
       "      <td>-1.134970</td>\n",
       "      <td>0.900479</td>\n",
       "      <td>1.776140</td>\n",
       "      <td>0.139762</td>\n",
       "      <td>0.195697</td>\n",
       "      <td>0.240298</td>\n",
       "      <td>...</td>\n",
       "      <td>-0.459854</td>\n",
       "      <td>-0.461685</td>\n",
       "      <td>-0.467699</td>\n",
       "      <td>-0.481182</td>\n",
       "      <td>-0.366371</td>\n",
       "      <td>-0.211504</td>\n",
       "      <td>-0.269032</td>\n",
       "      <td>-0.296897</td>\n",
       "      <td>-0.293773</td>\n",
       "      <td>-0.248632</td>\n",
       "    </tr>\n",
       "    <tr>\n",
       "      <th>4</th>\n",
       "      <td>-0.907423</td>\n",
       "      <td>0.807213</td>\n",
       "      <td>1.442629</td>\n",
       "      <td>-1.056686</td>\n",
       "      <td>2.778631</td>\n",
       "      <td>-0.876198</td>\n",
       "      <td>-0.723286</td>\n",
       "      <td>-1.535943</td>\n",
       "      <td>-1.528141</td>\n",
       "      <td>-1.539374</td>\n",
       "      <td>...</td>\n",
       "      <td>-0.676199</td>\n",
       "      <td>-0.672285</td>\n",
       "      <td>-0.662550</td>\n",
       "      <td>-0.651076</td>\n",
       "      <td>-0.366371</td>\n",
       "      <td>-0.264029</td>\n",
       "      <td>-0.302140</td>\n",
       "      <td>-0.325992</td>\n",
       "      <td>-0.318709</td>\n",
       "      <td>-0.272190</td>\n",
       "    </tr>\n",
       "  </tbody>\n",
       "</table>\n",
       "<p>5 rows × 23 columns</p>\n",
       "</div>"
      ],
      "text/plain": [
       "   num_pipeline__LIMIT_BAL  num_pipeline__SEX  num_pipeline__EDUCATION  \\\n",
       "0                -1.061879          -1.238831                 1.442629   \n",
       "1                -0.675740           0.807213                 0.183581   \n",
       "2                 0.559906           0.807213                 0.183581   \n",
       "3                -1.139107          -1.238831                 0.183581   \n",
       "4                -0.907423           0.807213                 1.442629   \n",
       "\n",
       "   num_pipeline__MARRIAGE  num_pipeline__AGE  num_pipeline__PAY_0  \\\n",
       "0                0.860246           1.800231             0.900479   \n",
       "1               -1.056686          -0.700126             0.012141   \n",
       "2                0.860246           1.691520            -1.764536   \n",
       "3                0.860246          -1.134970             0.900479   \n",
       "4               -1.056686           2.778631            -0.876198   \n",
       "\n",
       "   num_pipeline__PAY_2  num_pipeline__PAY_3  num_pipeline__PAY_4  \\\n",
       "0             1.776140             0.139762             0.195697   \n",
       "1             0.109856             0.139762             0.195697   \n",
       "2            -1.556428            -1.535943            -1.528141   \n",
       "3             1.776140             0.139762             0.195697   \n",
       "4            -0.723286            -1.535943            -1.528141   \n",
       "\n",
       "   num_pipeline__PAY_5  ...  num_pipeline__BILL_AMT3  num_pipeline__BILL_AMT4  \\\n",
       "0             0.240298  ...                -0.437292                -0.433698   \n",
       "1             0.240298  ...                -0.418406                -0.444751   \n",
       "2            -1.539374  ...                -0.666203                -0.661511   \n",
       "3             0.240298  ...                -0.459854                -0.461685   \n",
       "4            -1.539374  ...                -0.676199                -0.672285   \n",
       "\n",
       "   num_pipeline__BILL_AMT5  num_pipeline__BILL_AMT6  num_pipeline__PAY_AMT1  \\\n",
       "0                -0.427360                -0.498955               -0.365974   \n",
       "1                -0.457466                -0.459544               -0.259311   \n",
       "2                -0.651099                -0.639428               -0.101629   \n",
       "3                -0.467699                -0.481182               -0.366371   \n",
       "4                -0.662550                -0.651076               -0.366371   \n",
       "\n",
       "   num_pipeline__PAY_AMT2  num_pipeline__PAY_AMT3  num_pipeline__PAY_AMT4  \\\n",
       "0               -0.203423               -0.186780               -0.325992   \n",
       "1               -0.191393               -0.220292               -0.257210   \n",
       "2               -0.232432               -0.261995               -0.278119   \n",
       "3               -0.211504               -0.269032               -0.296897   \n",
       "4               -0.264029               -0.302140               -0.325992   \n",
       "\n",
       "   num_pipeline__PAY_AMT5  num_pipeline__PAY_AMT6  \n",
       "0               -0.318709               -0.233260  \n",
       "1               -0.252036               -0.230038  \n",
       "2               -0.272305               -0.201408  \n",
       "3               -0.293773               -0.248632  \n",
       "4               -0.318709               -0.272190  \n",
       "\n",
       "[5 rows x 23 columns]"
      ]
     },
     "execution_count": 105,
     "metadata": {},
     "output_type": "execute_result"
    }
   ],
   "source": [
    "X_train=pd.DataFrame(preprocessor.fit_transform(X_train),columns=preprocessor.get_feature_names_out())\n",
    "X_test=pd.DataFrame(preprocessor.transform(X_test),columns=preprocessor.get_feature_names_out())\n",
    "X_train.head()"
   ]
  },
  {
   "cell_type": "code",
   "execution_count": 106,
   "metadata": {},
   "outputs": [
    {
     "data": {
      "text/plain": [
       "Index(['LIMIT_BAL', 'SEX', 'EDUCATION', 'MARRIAGE', 'AGE', 'PAY_0', 'PAY_2',\n",
       "       'PAY_3', 'PAY_4', 'PAY_5', 'PAY_6', 'BILL_AMT1', 'BILL_AMT2',\n",
       "       'BILL_AMT3', 'BILL_AMT4', 'BILL_AMT5', 'BILL_AMT6', 'PAY_AMT1',\n",
       "       'PAY_AMT2', 'PAY_AMT3', 'PAY_AMT4', 'PAY_AMT5', 'PAY_AMT6'],\n",
       "      dtype='object')"
      ]
     },
     "execution_count": 106,
     "metadata": {},
     "output_type": "execute_result"
    }
   ],
   "source": []
  },
  {
   "cell_type": "code",
   "execution_count": 107,
   "metadata": {},
   "outputs": [],
   "source": [
    "from sklearn.linear_model import LogisticRegression\n",
    "from sklearn.metrics import confusion_matrix,roc_auc_score,accuracy_score,f1_score,precision_score,recall_score"
   ]
  },
  {
   "cell_type": "code",
   "execution_count": 110,
   "metadata": {},
   "outputs": [
    {
     "data": {
      "text/html": [
       "<style>#sk-container-id-1 {color: black;background-color: white;}#sk-container-id-1 pre{padding: 0;}#sk-container-id-1 div.sk-toggleable {background-color: white;}#sk-container-id-1 label.sk-toggleable__label {cursor: pointer;display: block;width: 100%;margin-bottom: 0;padding: 0.3em;box-sizing: border-box;text-align: center;}#sk-container-id-1 label.sk-toggleable__label-arrow:before {content: \"▸\";float: left;margin-right: 0.25em;color: #696969;}#sk-container-id-1 label.sk-toggleable__label-arrow:hover:before {color: black;}#sk-container-id-1 div.sk-estimator:hover label.sk-toggleable__label-arrow:before {color: black;}#sk-container-id-1 div.sk-toggleable__content {max-height: 0;max-width: 0;overflow: hidden;text-align: left;background-color: #f0f8ff;}#sk-container-id-1 div.sk-toggleable__content pre {margin: 0.2em;color: black;border-radius: 0.25em;background-color: #f0f8ff;}#sk-container-id-1 input.sk-toggleable__control:checked~div.sk-toggleable__content {max-height: 200px;max-width: 100%;overflow: auto;}#sk-container-id-1 input.sk-toggleable__control:checked~label.sk-toggleable__label-arrow:before {content: \"▾\";}#sk-container-id-1 div.sk-estimator input.sk-toggleable__control:checked~label.sk-toggleable__label {background-color: #d4ebff;}#sk-container-id-1 div.sk-label input.sk-toggleable__control:checked~label.sk-toggleable__label {background-color: #d4ebff;}#sk-container-id-1 input.sk-hidden--visually {border: 0;clip: rect(1px 1px 1px 1px);clip: rect(1px, 1px, 1px, 1px);height: 1px;margin: -1px;overflow: hidden;padding: 0;position: absolute;width: 1px;}#sk-container-id-1 div.sk-estimator {font-family: monospace;background-color: #f0f8ff;border: 1px dotted black;border-radius: 0.25em;box-sizing: border-box;margin-bottom: 0.5em;}#sk-container-id-1 div.sk-estimator:hover {background-color: #d4ebff;}#sk-container-id-1 div.sk-parallel-item::after {content: \"\";width: 100%;border-bottom: 1px solid gray;flex-grow: 1;}#sk-container-id-1 div.sk-label:hover label.sk-toggleable__label {background-color: #d4ebff;}#sk-container-id-1 div.sk-serial::before {content: \"\";position: absolute;border-left: 1px solid gray;box-sizing: border-box;top: 0;bottom: 0;left: 50%;z-index: 0;}#sk-container-id-1 div.sk-serial {display: flex;flex-direction: column;align-items: center;background-color: white;padding-right: 0.2em;padding-left: 0.2em;position: relative;}#sk-container-id-1 div.sk-item {position: relative;z-index: 1;}#sk-container-id-1 div.sk-parallel {display: flex;align-items: stretch;justify-content: center;background-color: white;position: relative;}#sk-container-id-1 div.sk-item::before, #sk-container-id-1 div.sk-parallel-item::before {content: \"\";position: absolute;border-left: 1px solid gray;box-sizing: border-box;top: 0;bottom: 0;left: 50%;z-index: -1;}#sk-container-id-1 div.sk-parallel-item {display: flex;flex-direction: column;z-index: 1;position: relative;background-color: white;}#sk-container-id-1 div.sk-parallel-item:first-child::after {align-self: flex-end;width: 50%;}#sk-container-id-1 div.sk-parallel-item:last-child::after {align-self: flex-start;width: 50%;}#sk-container-id-1 div.sk-parallel-item:only-child::after {width: 0;}#sk-container-id-1 div.sk-dashed-wrapped {border: 1px dashed gray;margin: 0 0.4em 0.5em 0.4em;box-sizing: border-box;padding-bottom: 0.4em;background-color: white;}#sk-container-id-1 div.sk-label label {font-family: monospace;font-weight: bold;display: inline-block;line-height: 1.2em;}#sk-container-id-1 div.sk-label-container {text-align: center;}#sk-container-id-1 div.sk-container {/* jupyter's `normalize.less` sets `[hidden] { display: none; }` but bootstrap.min.css set `[hidden] { display: none !important; }` so we also need the `!important` here to be able to override the default hidden behavior on the sphinx rendered scikit-learn.org. See: https://github.com/scikit-learn/scikit-learn/issues/21755 */display: inline-block !important;position: relative;}#sk-container-id-1 div.sk-text-repr-fallback {display: none;}</style><div id=\"sk-container-id-1\" class=\"sk-top-container\"><div class=\"sk-text-repr-fallback\"><pre>LogisticRegression()</pre><b>In a Jupyter environment, please rerun this cell to show the HTML representation or trust the notebook. <br />On GitHub, the HTML representation is unable to render, please try loading this page with nbviewer.org.</b></div><div class=\"sk-container\" hidden><div class=\"sk-item\"><div class=\"sk-estimator sk-toggleable\"><input class=\"sk-toggleable__control sk-hidden--visually\" id=\"sk-estimator-id-1\" type=\"checkbox\" checked><label for=\"sk-estimator-id-1\" class=\"sk-toggleable__label sk-toggleable__label-arrow\">LogisticRegression</label><div class=\"sk-toggleable__content\"><pre>LogisticRegression()</pre></div></div></div></div></div>"
      ],
      "text/plain": [
       "LogisticRegression()"
      ]
     },
     "execution_count": 110,
     "metadata": {},
     "output_type": "execute_result"
    }
   ],
   "source": [
    "\n",
    "model=LogisticRegression()\n",
    "model.fit(X_train,Y_train)\n"
   ]
  },
  {
   "cell_type": "code",
   "execution_count": 117,
   "metadata": {},
   "outputs": [],
   "source": [
    "def evaluate_model(true,predicted):\n",
    "    model_score=accuracy_score(true,predicted)\n",
    "    confusion=confusion_matrix(true,predicted)\n",
    "    auc_score=roc_auc_score(true,predicted)\n",
    "    print('Model_score: ',model_score)\n",
    "    print('Confusion_matrix: ',confusion)\n",
    "    print('AUC_score: ',auc_score)\n",
    "\n",
    "    "
   ]
  },
  {
   "cell_type": "code",
   "execution_count": 119,
   "metadata": {},
   "outputs": [
    {
     "name": "stdout",
     "output_type": "stream",
     "text": [
      "Model_score:  0.8093333333333333\n",
      "Confusion_matrix:  [[6814  186]\n",
      " [1530  470]]\n",
      "AUC_score:  0.6042142857142856\n"
     ]
    }
   ],
   "source": [
    "evaluate_model(Y_test,y_pred)"
   ]
  },
  {
   "cell_type": "code",
   "execution_count": 111,
   "metadata": {},
   "outputs": [
    {
     "data": {
      "text/plain": [
       "0.8088571428571428"
      ]
     },
     "execution_count": 111,
     "metadata": {},
     "output_type": "execute_result"
    }
   ],
   "source": [
    "model.score(X_train,Y_train)"
   ]
  },
  {
   "cell_type": "code",
   "execution_count": 112,
   "metadata": {},
   "outputs": [],
   "source": [
    "y_pred=model.predict(X_test)"
   ]
  },
  {
   "cell_type": "code",
   "execution_count": 113,
   "metadata": {},
   "outputs": [
    {
     "data": {
      "text/plain": [
       "0.8093333333333333"
      ]
     },
     "execution_count": 113,
     "metadata": {},
     "output_type": "execute_result"
    }
   ],
   "source": [
    "accuracy_score(Y_test,y_pred)"
   ]
  },
  {
   "cell_type": "code",
   "execution_count": 114,
   "metadata": {},
   "outputs": [
    {
     "data": {
      "text/plain": [
       "array([[6814,  186],\n",
       "       [1530,  470]], dtype=int64)"
      ]
     },
     "execution_count": 114,
     "metadata": {},
     "output_type": "execute_result"
    }
   ],
   "source": [
    "confusion_matrix(Y_test,y_pred)"
   ]
  },
  {
   "cell_type": "code",
   "execution_count": null,
   "metadata": {},
   "outputs": [],
   "source": []
  }
 ],
 "metadata": {
  "kernelspec": {
   "display_name": "base",
   "language": "python",
   "name": "python3"
  },
  "language_info": {
   "codemirror_mode": {
    "name": "ipython",
    "version": 3
   },
   "file_extension": ".py",
   "mimetype": "text/x-python",
   "name": "python",
   "nbconvert_exporter": "python",
   "pygments_lexer": "ipython3",
   "version": "3.10.9"
  },
  "orig_nbformat": 4,
  "vscode": {
   "interpreter": {
    "hash": "88279d2366fe020547cde40dd65aa0e3aa662a6ec1f3ca12d88834876c85e1a6"
   }
  }
 },
 "nbformat": 4,
 "nbformat_minor": 2
}
